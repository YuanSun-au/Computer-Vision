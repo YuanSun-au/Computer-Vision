{
 "nbformat": 4,
 "nbformat_minor": 2,
 "metadata": {
  "language_info": {
   "name": "python",
   "codemirror_mode": {
    "name": "ipython",
    "version": 3
   }
  },
  "orig_nbformat": 2,
  "file_extension": ".py",
  "mimetype": "text/x-python",
  "name": "python",
  "npconvert_exporter": "python",
  "pygments_lexer": "ipython3",
  "version": 3
 },
 "cells": [
  {
   "cell_type": "markdown",
   "metadata": {},
   "source": [
    "# Computer Vision Recap - Segmentation"
   ]
  },
  {
   "cell_type": "markdown",
   "metadata": {},
   "source": [
    "## Lecture 13 Isotropic Nonlinear Diffusion"
   ]
  },
  {
   "cell_type": "markdown",
   "metadata": {},
   "source": [
    "### Isotropic Nonlinear Diffusion\n",
    "\n",
    "\n",
    "Avoid drawbacks of linear diffusion: delocalisation and blurring of edges\n",
    "$$ \\partial_t u = div( g(|\\nabla u|^2) \\; \\nabla u ) $$\n",
    "\n",
    "Diffusivity $g(|\\nabla u|^2) := \\frac{1}{1+|\\nabla u|^2/\\lambda^2}$ decreasing in $|\\nabla u|^2$ \n",
    "\n",
    "\n",
    "<img src=\"./images/isodiff.png\" width=600>\n",
    "<br>\n",
    "\n",
    "- Forward diffusion if $\\Phi'(u_x) > 0$ for $|\\nabla u| < \\lambda$\n",
    "- Backward diffusion if $\\Phi'(u_x) < 0$ for $|\\nabla u| > \\lambda$"
   ]
  },
  {
   "cell_type": "markdown",
   "metadata": {},
   "source": [
    "### Regularised Nonlinear Diffusion\n",
    "\n",
    "- Reduce staircasing artifacts and problems with noise\n",
    "\n",
    "$$ \\partial_t u = div( g(|\\nabla u_\\sigma|^2) \\; \\nabla u ) $$ with $$ u_\\sigma = K_\\sigma*u $$\n",
    "\n",
    "<br>\n",
    "\n",
    "Theoretical Results\n",
    "\n",
    "- Stability under perturbations of initial image\n",
    "- Preservation of average grey value\n",
    "- Maximum-minimum principle\n",
    "- Stable\n",
    "- Image converges to average grey level"
   ]
  },
  {
   "cell_type": "markdown",
   "metadata": {},
   "source": [
    "<br><br>\n",
    "## Anisotropic Nonlinear Diffusion"
   ]
  },
  {
   "cell_type": "markdown",
   "metadata": {},
   "source": [
    "**Motivation**\n",
    "- Isotropic nonlinear diff. have difficulties with noisy images and cannot enhance coherent flow-like structures\n",
    "- We want to smooth only along edge directions but no across. \n",
    "\n",
    "<br>\n",
    "\n",
    "### Edfe-enhancing Anisotropic Diffusion (EED)\n",
    "\n",
    "**Goal**\n",
    "- Smooth prefently within regions\n",
    "- Inhibit diffusion perpendicular to edges\n",
    "\n",
    "$$ D(\\nabla u_\\sigma) = (v_1 \\;\\; v_2) \\begin{bmatrix} \\lambda_1&0\\\\0&\\lambda_2 \\end{bmatrix} (v_1 \\;\\; v_2)^\\top = \\lambda_1 v_1 v_1^\\top + \\lambda_2 v_2 v_2^\\top $$\n",
    "\n",
    "- $\\lambda_1 = 1$ (diffusion along edge), $v_1 \\parallel \\nabla u_\\sigma$ \n",
    "- $\\lambda_2 = g(|\\nabla u|^2)$ (diffusion across edge), $v_2 \\perp \\nabla u_\\sigma$\n",
    "\n",
    "\n",
    "\n",
    "\n",
    "\n",
    "\n",
    "\n",
    "\n"
   ]
  },
  {
   "cell_type": "code",
   "execution_count": null,
   "metadata": {},
   "outputs": [],
   "source": []
  }
 ]
}