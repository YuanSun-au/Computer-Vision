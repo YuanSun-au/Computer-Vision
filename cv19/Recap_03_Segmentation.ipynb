{
 "nbformat": 4,
 "nbformat_minor": 2,
 "metadata": {
  "language_info": {
   "name": "python",
   "codemirror_mode": {
    "name": "ipython",
    "version": 3
   }
  },
  "orig_nbformat": 2,
  "file_extension": ".py",
  "mimetype": "text/x-python",
  "name": "python",
  "npconvert_exporter": "python",
  "pygments_lexer": "ipython3",
  "version": 3
 },
 "cells": [
  {
   "cell_type": "markdown",
   "metadata": {},
   "source": [
    "# Computer Vision Recap - Segmentation"
   ]
  },
  {
   "cell_type": "markdown",
   "metadata": {},
   "source": [
    "## Lecture 13: Isotropic Nonlinear Diffusion"
   ]
  },
  {
   "cell_type": "markdown",
   "metadata": {},
   "source": [
    "### Isotropic Nonlinear Diffusion\n",
    "\n",
    "\n",
    "Avoid drawbacks of linear diffusion: delocalisation and blurring of edges\n",
    "$$ \\partial_t u = div( g(|\\nabla u|^2) \\; \\nabla u ) $$\n",
    "\n",
    "Diffusivity $g(|\\nabla u|^2) := \\frac{1}{1+|\\nabla u|^2/\\lambda^2}$ decreasing in $|\\nabla u|^2$ \n",
    "\n",
    "\n",
    "<img src=\"./images/isodiff.png\" width=600>\n",
    "<br>\n",
    "\n",
    "- Forward diffusion if $\\Phi'(u_x) > 0$ for $|\\nabla u| < \\lambda$\n",
    "- Backward diffusion if $\\Phi'(u_x) < 0$ for $|\\nabla u| > \\lambda$"
   ]
  },
  {
   "cell_type": "markdown",
   "metadata": {},
   "source": [
    "### Regularised Nonlinear Diffusion\n",
    "\n",
    "- Reduce staircasing artifacts and problems with noise\n",
    "\n",
    "$$ \\partial_t u = div( g(|\\nabla u_\\sigma|^2) \\; \\nabla u ) $$ with $$ u_\\sigma = K_\\sigma*u $$\n",
    "\n",
    "<br>\n",
    "\n",
    "Theoretical Results\n",
    "\n",
    "- Stability under perturbations of initial image\n",
    "- Preservation of average grey value\n",
    "- Maximum-minimum principle\n",
    "- Stable\n",
    "- Image converges to average grey level"
   ]
  },
  {
   "cell_type": "markdown",
   "metadata": {},
   "source": [
    "<br><br>\n",
    "## Lecture 14: Anisotropic Nonlinear Diffusion"
   ]
  },
  {
   "cell_type": "markdown",
   "metadata": {},
   "source": [
    "**Motivation**\n",
    "- Isotropic nonlinear diff. have difficulties with noisy images and cannot enhance coherent flow-like structures\n",
    "- We want to smooth only along edge directions but no across. \n",
    "\n",
    "<br>\n",
    "\n",
    "### Edge-enhancing Anisotropic Diffusion (EED)\n",
    "\n",
    "**Goal**\n",
    "- Smooth prefently within regions\n",
    "- Inhibit diffusion perpendicular to edges\n",
    "\n",
    "$$ D(\\nabla u_\\sigma) = (v_1 \\;\\; v_2) \\begin{bmatrix} \\lambda_1&0\\\\0&\\lambda_2 \\end{bmatrix} (v_1 \\;\\; v_2)^\\top = \\lambda_1 v_1 v_1^\\top + \\lambda_2 v_2 v_2^\\top $$\n",
    "\n",
    "- $\\lambda_1 = 1$ (diffusion along edge), $v_1 \\parallel \\nabla u_\\sigma$ \n",
    "- $\\lambda_2 = g(|\\nabla u|^2)$ (diffusion across edge), $v_2 \\perp \\nabla u_\\sigma$\n",
    "\n",
    "<img src=\"./images/EED.png\" width=300>\n",
    "\n",
    "<br>\n",
    "\n",
    "**Problems**:\n",
    "- Large convolution kernels cancel adjacent gradients with the same direction but opposite orientation\n",
    "- EED is not good for closing interrupted lines\n",
    "\n",
    "**Analysing Local Structure**\n",
    "- small $\\sigma$: sensitive to noise\n",
    "- big $\\sigma$: cancellation of adjacent gradients with opposite directions\n",
    "\n",
    "<br>\n",
    "\n",
    "### Coherence-Enhancing Anisotropic Diffusion (CED)\n",
    "\n",
    "basically a 1-D smoothing along flow-like structures\n",
    "\n",
    "- smooth mainly along coherent structures\n",
    "- increase smoothing with coherence $(\\mu_1-\\mu_2)^2$ \n",
    "\n",
    "**Choice of Diffusion Tensor $D(J_\\rho)$**\n",
    "\n",
    "Coherence (anisotropy) $c=(\\mu_1-\\mu_2)^2$ are useful to analyse the gradient covariance (how allongated is the covariance?)\n",
    "\n",
    "- eigenvectors from $J_\\rho(\\nabla u_\\sigma) = K_\\rho * (\\nabla u_\\sigma \\nabla u_\\sigma^\\top)$\n",
    "- Across coherent structures: $\\lambda_1 := \\alpha (small \\; \\alpha >0)$ \n",
    "- Along coherent structures: $\\lambda_2 := \\alpha + (1-\\alpha) \\exp( \\frac{-C}{(\\mu_1-\\mu_2)^2} )$ \n"
   ]
  },
  {
   "cell_type": "markdown",
   "metadata": {},
   "source": [
    "<br><br>\n",
    "## Lecture 15: Mumford-Shah Model (Segmentation)\n"
   ]
  },
  {
   "cell_type": "markdown",
   "metadata": {},
   "source": [
    "\n",
    "### Mumford-Shah Model\n",
    "\n",
    "Seeks segmentation (u,K) of some initial image $f:\\Omega\\rightarrow \\mathbb R$ as the minimizer of\n",
    "\n",
    "$$ E_{MS}(u,K) = \\int_\\Omega (u-f)^2 dx dy + \\alpha \\int_{\\Omega\\backslash K} |\\nabla u|^2 dx dy + \\lambda l(K)$$\n",
    "\n",
    "- matematically extremely challenging\n",
    "\n",
    "<br>\n",
    "\n",
    "### Mumford-Shah Cartoon Model\n",
    "\n",
    "Approximation for $\\alpha\\rightarrow \\infty$:\n",
    "$$ E_{MS}(u,K) = \\int_\\Omega (u-f)^2 dx dy + \\lambda l(K)$$\n",
    "\n",
    "which is sufficient to control the homogeneity within each segment and also minimize the length of the boundaries\n",
    "\n",
    "#### Approximation method for minimization\n",
    "\n",
    "A segmentation is called **2-normal** if every segmentation $K'$, that results from merging two neighbouring segments of $K$ has a large energy:\n",
    "$$E(K') > E(K)$$\n",
    "\n",
    "**Idea:** approximate global minimiser of cartoon model by local minimiser resulting from the restriction to 2-normal segmentations. Create 2-normal segmentations by region merging\n",
    "\n",
    "Merging two regions yields:\n",
    "$$ E(K\\backslash \\partial(\\Omega_i,\\Omega_j)) = E(K) + \\frac{|\\Omega_i|\\cdot |\\Omega_j|}{|\\Omega_i|+|\\Omega_j|} (u_i-u_j)^2  - \\lambda l(\\partial (\\Omega_i,\\Omega_j))$$\n",
    "\n",
    "Solving $E(K\\backslash \\partial(\\Omega_i,\\Omega_j)) - E(K) = 0$ yields:\n",
    "$$ \\lambda_{i,j} = \\frac{ \\frac{|\\Omega_i|\\cdot |\\Omega_j|}{|\\Omega_i|+|\\Omega_j|} (u_i-u_j)^2 }{l(\\partial (\\Omega_i,\\Omega_j))} $$"
   ]
  },
  {
   "cell_type": "markdown",
   "metadata": {},
   "source": [
    "<br>\n",
    "\n",
    "### The Ambrosio-Tortorelli Mode\n",
    "\n",
    "\n",
    "\n",
    "Approximation of the Mumford-Shah functional by:\n",
    "$$ E_{MS-AT}(u,v) := \\int_{\\Omega} \\left(  (u-f)^2 + \\alpha\\cdot v^2\\cdot |\\nabla u|^2 + \\beta\\cdot \\left(c|\\nabla v|^2+\\dfrac{(1-v)^2}{4c}\\right)  \\right) dx dy$$\n",
    "\n",
    "where v(x,y) is an edge indicator function ($v\\rightarrow 0$ at edges and 1 within region)\n",
    "\n",
    "- **Advantage**: smooth unkown function $v$ is mathm. more convenient than an unkown edge set $K$ \n",
    "\n",
    "<br>\n",
    "\n",
    "Solving with Euler-Lagrange equations yields:\n",
    "$$ 0 = \\frac{1}{\\alpha} (u-f) - div(v^2 \\nabla u) $$\n",
    "$$ 0 = \\frac{\\alpha}{\\beta} v |\\nabla u|^2 - \\frac{1-v}{4c} - c\\Delta v $$ \n",
    "\n",
    "with boundary conditions:\n",
    "$$ 0 = n \\cdot \\nabla u \\quad \\quad 0=n\\cdot\\nabla v  $$\n",
    "\n",
    "<br>\n",
    "\n",
    "- The MS-AT energy is not jointly convex in $(u,v)$ and therefore may have multiple minima\n",
    "- Consequently, the diffusion-reaction system may get stuck in a local minima\n",
    "\n",
    "<br>\n",
    "\n",
    "The Ambrosio-Tortorelli are related to the Perona-Malik (nonlinear isotropic diffusion) filter"
   ]
  },
  {
   "cell_type": "markdown",
   "metadata": {},
   "source": []
  }
 ]
}